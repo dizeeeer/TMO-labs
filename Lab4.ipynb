{
 "cells": [
  {
   "cell_type": "markdown",
   "metadata": {},
   "source": [
    "### ЛР4"
   ]
  },
  {
   "cell_type": "code",
   "execution_count": 1,
   "metadata": {},
   "outputs": [],
   "source": [
    "import numpy as np\n",
    "import pandas as pd\n",
    "from typing import Dict, Tuple\n",
    "import seaborn as sns\n",
    "import matplotlib.pyplot as plt\n",
    "%matplotlib inline\n",
    "from sklearn.impute import SimpleImputer\n",
    "import warnings\n",
    "from sklearn.pipeline import Pipeline\n",
    "from sklearn.preprocessing import PolynomialFeatures\n",
    "from sklearn.metrics import confusion_matrix, precision_score, recall_score, f1_score, classification_report\n",
    "from sklearn.linear_model import LinearRegression\n",
    "warnings.simplefilter(\"ignore\")"
   ]
  },
  {
   "cell_type": "code",
   "execution_count": 2,
   "metadata": {},
   "outputs": [
    {
     "data": {
      "text/html": [
       "<div>\n",
       "<style scoped>\n",
       "    .dataframe tbody tr th:only-of-type {\n",
       "        vertical-align: middle;\n",
       "    }\n",
       "\n",
       "    .dataframe tbody tr th {\n",
       "        vertical-align: top;\n",
       "    }\n",
       "\n",
       "    .dataframe thead th {\n",
       "        text-align: right;\n",
       "    }\n",
       "</style>\n",
       "<table border=\"1\" class=\"dataframe\">\n",
       "  <thead>\n",
       "    <tr style=\"text-align: right;\">\n",
       "      <th></th>\n",
       "      <th>age</th>\n",
       "      <th>sex</th>\n",
       "      <th>bmi</th>\n",
       "      <th>children</th>\n",
       "      <th>smoker</th>\n",
       "      <th>region</th>\n",
       "      <th>charges</th>\n",
       "    </tr>\n",
       "  </thead>\n",
       "  <tbody>\n",
       "    <tr>\n",
       "      <th>0</th>\n",
       "      <td>19</td>\n",
       "      <td>female</td>\n",
       "      <td>27.900</td>\n",
       "      <td>0</td>\n",
       "      <td>yes</td>\n",
       "      <td>southwest</td>\n",
       "      <td>16884.92400</td>\n",
       "    </tr>\n",
       "    <tr>\n",
       "      <th>1</th>\n",
       "      <td>18</td>\n",
       "      <td>male</td>\n",
       "      <td>33.770</td>\n",
       "      <td>1</td>\n",
       "      <td>no</td>\n",
       "      <td>southeast</td>\n",
       "      <td>1725.55230</td>\n",
       "    </tr>\n",
       "    <tr>\n",
       "      <th>2</th>\n",
       "      <td>28</td>\n",
       "      <td>male</td>\n",
       "      <td>33.000</td>\n",
       "      <td>3</td>\n",
       "      <td>no</td>\n",
       "      <td>southeast</td>\n",
       "      <td>4449.46200</td>\n",
       "    </tr>\n",
       "    <tr>\n",
       "      <th>3</th>\n",
       "      <td>33</td>\n",
       "      <td>male</td>\n",
       "      <td>22.705</td>\n",
       "      <td>0</td>\n",
       "      <td>no</td>\n",
       "      <td>northwest</td>\n",
       "      <td>21984.47061</td>\n",
       "    </tr>\n",
       "    <tr>\n",
       "      <th>4</th>\n",
       "      <td>32</td>\n",
       "      <td>male</td>\n",
       "      <td>28.880</td>\n",
       "      <td>0</td>\n",
       "      <td>no</td>\n",
       "      <td>northwest</td>\n",
       "      <td>3866.85520</td>\n",
       "    </tr>\n",
       "  </tbody>\n",
       "</table>\n",
       "</div>"
      ],
      "text/plain": [
       "   age     sex     bmi  children smoker     region      charges\n",
       "0   19  female  27.900         0    yes  southwest  16884.92400\n",
       "1   18    male  33.770         1     no  southeast   1725.55230\n",
       "2   28    male  33.000         3     no  southeast   4449.46200\n",
       "3   33    male  22.705         0     no  northwest  21984.47061\n",
       "4   32    male  28.880         0     no  northwest   3866.85520"
      ]
     },
     "execution_count": 2,
     "metadata": {},
     "output_type": "execute_result"
    }
   ],
   "source": [
    "# чтение обучающей выборки\n",
    "data = pd.read_csv('insurance.csv')\n",
    "data.head()"
   ]
  },
  {
   "cell_type": "code",
   "execution_count": 3,
   "metadata": {},
   "outputs": [],
   "source": [
    "from sklearn.model_selection import train_test_split\n",
    "from sklearn.preprocessing import LabelEncoder"
   ]
  },
  {
   "cell_type": "code",
   "execution_count": 4,
   "metadata": {},
   "outputs": [],
   "source": [
    "le = LabelEncoder()\n",
    "    # \"sex\" - пол\n",
    "le.fit(data.sex.drop_duplicates()) \n",
    "data.sex = le.transform(data.sex)\n",
    "    # \"smoker\" - курение\n",
    "le.fit(data.smoker.drop_duplicates()) \n",
    "data.smoker = le.transform(data.smoker)\n",
    "    # \"region\" - регион\n",
    "le.fit(data.region.drop_duplicates()) \n",
    "data.region = le.transform(data.region)"
   ]
  },
  {
   "cell_type": "code",
   "execution_count": 5,
   "metadata": {},
   "outputs": [
    {
     "data": {
      "text/plain": [
       "<AxesSubplot:>"
      ]
     },
     "execution_count": 5,
     "metadata": {},
     "output_type": "execute_result"
    },
    {
     "data": {
      "image/png": "[encoded data removed]",
      "text/plain": [
       "<Figure size 1080x504 with 2 Axes>"
      ]
     },
     "metadata": {
      "needs_background": "light"
     },
     "output_type": "display_data"
    }
   ],
   "source": [
    "#Построим корреляционную матрицу\n",
    "fig, ax = plt.subplots(figsize=(15,7))\n",
    "sns.heatmap(data.corr(method='pearson'), ax=ax, annot=True, fmt='.2f')"
   ]
  },
  {
   "cell_type": "code",
   "execution_count": 6,
   "metadata": {},
   "outputs": [
    {
     "name": "stdout",
     "output_type": "stream",
     "text": [
      "Входные данные:\n",
      "\n",
      "    age  sex     bmi  children  smoker  region\n",
      "0   19    0  27.900         0       1       3\n",
      "1   18    1  33.770         1       0       2\n",
      "2   28    1  33.000         3       0       2\n",
      "3   33    1  22.705         0       0       1\n",
      "4   32    1  28.880         0       0       1 \n",
      "\n",
      "Выходные данные:\n",
      "\n",
      " 0    16884.92400\n",
      "1     1725.55230\n",
      "2     4449.46200\n",
      "3    21984.47061\n",
      "4     3866.85520\n",
      "Name: charges, dtype: float64\n"
     ]
    }
   ],
   "source": [
    "X = data.drop(['charges'], axis = 1)\n",
    "Y = data.charges\n",
    "print('Входные данные:\\n\\n', X.head(), '\\n\\nВыходные данные:\\n\\n', Y.head())"
   ]
  },
  {
   "cell_type": "code",
   "execution_count": 7,
   "metadata": {},
   "outputs": [
    {
     "name": "stdout",
     "output_type": "stream",
     "text": [
      "Входные параметры обучающей выборки:\n",
      "\n",
      "      age  sex    bmi  children  smoker  region\n",
      "461   42    1  30.00         0       1       3\n",
      "322   34    1  30.80         0       1       3\n",
      "224   42    1  24.64         0       1       2\n",
      "711   50    0  23.54         2       0       2\n",
      "58    53    0  22.88         1       1       2 \n",
      "\n",
      "Входные параметры тестовой выборки:\n",
      "\n",
      "       age  sex     bmi  children  smoker  region\n",
      "578    52    1  30.200         1       0       3\n",
      "610    47    0  29.370         1       0       2\n",
      "569    48    1  40.565         2       1       1\n",
      "1034   61    1  38.380         0       0       1\n",
      "198    51    0  18.050         0       0       1 \n",
      "\n",
      "Выходные параметры обучающей выборки:\n",
      "\n",
      " 461    22144.0320\n",
      "322    35491.6400\n",
      "224    19515.5416\n",
      "711    10107.2206\n",
      "58     23244.7902\n",
      "Name: charges, dtype: float64 \n",
      "\n",
      "Выходные параметры тестовой выборки:\n",
      "\n",
      " 578      9724.53000\n",
      "610      8547.69130\n",
      "569     45702.02235\n",
      "1034    12950.07120\n",
      "198      9644.25250\n",
      "Name: charges, dtype: float64\n"
     ]
    }
   ],
   "source": [
    "X_train,  X_test,  Y_train,  Y_test = train_test_split(X,  Y, random_state = 0, test_size = 0.1)\n",
    "print('Входные параметры обучающей выборки:\\n\\n',X_train.head(), \\\n",
    "      '\\n\\nВходные параметры тестовой выборки:\\n\\n', X_test.head(), \\\n",
    "      '\\n\\nВыходные параметры обучающей выборки:\\n\\n', Y_train.head(), \\\n",
    "      '\\n\\nВыходные параметры тестовой выборки:\\n\\n', Y_test.head())"
   ]
  },
  {
   "cell_type": "code",
   "execution_count": 8,
   "metadata": {},
   "outputs": [
    {
     "data": {
      "text/plain": [
       "<seaborn.axisgrid.FacetGrid at 0x7ff2091326a0>"
      ]
     },
     "execution_count": 8,
     "metadata": {},
     "output_type": "execute_result"
    },
    {
     "data": {
      "image/png": "[encoded data removed]",
      "text/plain": [
       "<Figure size 360x360 with 1 Axes>"
      ]
     },
     "metadata": {
      "needs_background": "light"
     },
     "output_type": "display_data"
    }
   ],
   "source": [
    "sns.lmplot(x = 'age',y = 'charges',data = data)"
   ]
  },
  {
   "cell_type": "code",
   "execution_count": 9,
   "metadata": {},
   "outputs": [
    {
     "data": {
      "text/plain": [
       "<seaborn.axisgrid.FacetGrid at 0x7ff2091d0be0>"
      ]
     },
     "execution_count": 9,
     "metadata": {},
     "output_type": "execute_result"
    },
    {
     "data": {
      "image/png": "[encoded data removed]",
      "text/plain": [
       "<Figure size 360x360 with 1 Axes>"
      ]
     },
     "metadata": {
      "needs_background": "light"
     },
     "output_type": "display_data"
    }
   ],
   "source": [
    "sns.lmplot(x='smoker',y='charges',data = data)"
   ]
  },
  {
   "cell_type": "code",
   "execution_count": 10,
   "metadata": {},
   "outputs": [
    {
     "data": {
      "text/plain": [
       "<seaborn.axisgrid.FacetGrid at 0x7ff2098fcfa0>"
      ]
     },
     "execution_count": 10,
     "metadata": {},
     "output_type": "execute_result"
    },
    {
     "data": {
      "image/png": "[encoded data removed]",
      "text/plain": [
       "<Figure size 404.5x360 with 1 Axes>"
      ]
     },
     "metadata": {
      "needs_background": "light"
     },
     "output_type": "display_data"
    }
   ],
   "source": [
    "sns.lmplot(x = 'age',y = 'charges',hue = 'smoker',data = data)"
   ]
  },
  {
   "cell_type": "markdown",
   "metadata": {},
   "source": [
    "### Построение линейной регрессии"
   ]
  },
  {
   "cell_type": "code",
   "execution_count": 11,
   "metadata": {},
   "outputs": [],
   "source": [
    "from sklearn.linear_model import LinearRegression\n",
    "from sklearn.metrics import mean_absolute_error, mean_squared_error,  median_absolute_error, r2_score "
   ]
  },
  {
   "cell_type": "code",
   "execution_count": 12,
   "metadata": {},
   "outputs": [],
   "source": [
    "Lin_Reg = LinearRegression().fit(X_train, Y_train)\n",
    "\n",
    "lr_y_pred = Lin_Reg.predict(X_test)"
   ]
  },
  {
   "cell_type": "code",
   "execution_count": 13,
   "metadata": {},
   "outputs": [
    {
     "data": {
      "image/png": "[encoded data removed]",
      "text/plain": [
       "<Figure size 432x288 with 1 Axes>"
      ]
     },
     "metadata": {
      "needs_background": "light"
     },
     "output_type": "display_data"
    }
   ],
   "source": [
    "plt.scatter(X_test.age, Y_test,    marker = 's', label = 'Тестовая выборка')\n",
    "plt.scatter(X_test.age, lr_y_pred, marker = 'o', label = 'Предсказанные данные')\n",
    "plt.legend (loc = 'lower right')\n",
    "plt.xlabel ('Возраст')\n",
    "plt.ylabel ('Целевой признак')\n",
    "plt.show()"
   ]
  },
  {
   "cell_type": "markdown",
   "metadata": {},
   "source": [
    "### SVM"
   ]
  },
  {
   "cell_type": "code",
   "execution_count": 14,
   "metadata": {},
   "outputs": [],
   "source": [
    "from sklearn.svm import SVC , LinearSVC\n",
    "from sklearn.datasets.samples_generator import make_blobs\n",
    "from matplotlib import pyplot as plt"
   ]
  },
  {
   "cell_type": "code",
   "execution_count": 15,
   "metadata": {},
   "outputs": [
    {
     "data": {
      "text/plain": [
       "<matplotlib.collections.PathCollection at 0x7ff209d59fa0>"
      ]
     },
     "execution_count": 15,
     "metadata": {},
     "output_type": "execute_result"
    },
    {
     "data": {
      "image/png": "[encoded data removed]",
      "text/plain": [
       "<Figure size 432x288 with 1 Axes>"
      ]
     },
     "metadata": {
      "needs_background": "light"
     },
     "output_type": "display_data"
    }
   ],
   "source": [
    "X , y = make_blobs(n_samples=125, centers=2, cluster_std=0.6, random_state=0)\n",
    "# колич, кол кластеров, станд откл, \n",
    "\n",
    "train_X, test_X, train_y, test_y = train_test_split(X, y, test_size=40, random_state=0)\n",
    "\n",
    "plt.scatter(train_X[:, 0], train_X[:, 1], c=train_y, cmap='winter')"
   ]
  },
  {
   "cell_type": "code",
   "execution_count": 16,
   "metadata": {},
   "outputs": [
    {
     "data": {
      "text/plain": [
       "SVC(kernel='linear')"
      ]
     },
     "execution_count": 16,
     "metadata": {},
     "output_type": "execute_result"
    }
   ],
   "source": [
    "svc = SVC(kernel='linear')\n",
    "svc.fit(train_X,train_y)"
   ]
  },
  {
   "cell_type": "code",
   "execution_count": 17,
   "metadata": {},
   "outputs": [
    {
     "data": {
      "text/plain": [
       "[<matplotlib.lines.Line2D at 0x7ff209e2b430>]"
      ]
     },
     "execution_count": 17,
     "metadata": {},
     "output_type": "execute_result"
    },
    {
     "data": {
      "image/png": "[encoded data removed]",
      "text/plain": [
       "<Figure size 432x288 with 1 Axes>"
      ]
     },
     "metadata": {
      "needs_background": "light"
     },
     "output_type": "display_data"
    }
   ],
   "source": [
    "plt.scatter(train_X[:, 0], train_X[:, 1], c=train_y, cmap='winter')\n",
    "\n",
    "ax=plt.gca()\n",
    "xlim=ax.get_xlim()\n",
    "    \n",
    "ax.scatter(test_X[:, 0], test_X[:, 1], c=test_y, cmap='winter', marker='s')\n",
    "\n",
    "w= svc.coef_[0]\n",
    "a= -w[0]/w[1]\n",
    "xx=np.linspace(xlim[0], xlim[1])\n",
    "yy= a * xx - (svc.intercept_[0]/ w[1])\n",
    "plt.plot(xx, yy)"
   ]
  },
  {
   "cell_type": "code",
   "execution_count": 18,
   "metadata": {},
   "outputs": [],
   "source": [
    "pred_y = svc.predict(test_X)"
   ]
  },
  {
   "cell_type": "code",
   "execution_count": 19,
   "metadata": {},
   "outputs": [
    {
     "data": {
      "text/plain": [
       "array([[21,  0],\n",
       "       [ 0, 19]])"
      ]
     },
     "execution_count": 19,
     "metadata": {},
     "output_type": "execute_result"
    }
   ],
   "source": [
    "confusion_matrix(test_y, pred_y)"
   ]
  },
  {
   "cell_type": "markdown",
   "metadata": {},
   "source": [
    "### Tree"
   ]
  },
  {
   "cell_type": "code",
   "execution_count": 20,
   "metadata": {},
   "outputs": [],
   "source": [
    "from sklearn.tree import DecisionTreeClassifier, DecisionTreeRegressor, export_graphviz\n",
    "from sklearn.tree import export_graphviz\n",
    "from sklearn import tree\n",
    "import re"
   ]
  },
  {
   "cell_type": "code",
   "execution_count": 21,
   "metadata": {},
   "outputs": [
    {
     "name": "stdout",
     "output_type": "stream",
     "text": [
      "Входные данные:\n",
      "\n",
      "       bmi\n",
      "0  27.900\n",
      "1  33.770\n",
      "2  33.000\n",
      "3  22.705\n",
      "4  28.880 \n",
      "\n",
      "Выходные данные:\n",
      "\n",
      " 0    16884\n",
      "1     1725\n",
      "2     4449\n",
      "3    21984\n",
      "4     3866\n",
      "Name: charges, dtype: int64\n"
     ]
    }
   ],
   "source": [
    "data = pd.read_csv('insurance.csv')\n",
    "le = LabelEncoder()\n",
    "    # \"sex\" - пол\n",
    "le.fit(data.sex.drop_duplicates()) \n",
    "data.sex = le.transform(data.sex)\n",
    "    # \"smoker\" - курение\n",
    "le.fit(data.smoker.drop_duplicates()) \n",
    "data.smoker = le.transform(data.smoker)\n",
    "    # \"region\" - регион\n",
    "le.fit(data.region.drop_duplicates()) \n",
    "data.region = le.transform(data.region)\n",
    "data['charges'] = data['charges'].astype(int)\n",
    "X = data.drop(['charges', 'sex', 'smoker', 'region', 'age', 'children'], axis = 1)\n",
    "Y = data.charges\n",
    "print('Входные данные:\\n\\n', X.head(), '\\n\\nВыходные данные:\\n\\n', Y.head())"
   ]
  },
  {
   "cell_type": "code",
   "execution_count": 22,
   "metadata": {},
   "outputs": [],
   "source": [
    "# Обучим дерево на всех признаках iris\n",
    "clf = tree.DecisionTreeClassifier()\n",
    "clf = clf.fit(X, Y)"
   ]
  },
  {
   "cell_type": "code",
   "execution_count": 23,
   "metadata": {},
   "outputs": [
    {
     "data": {
      "text/html": [
       "<pre>|--- bmi <= 38.13\n",
       "|   |--- bmi <= 26.15\n",
       "|   |   |--- bmi <= 24.47\n",
       "|   |   |   |--- bmi <= 22.89\n",
       "|   |   |   |   |--- bmi <= 22.22\n",
       "|   |   |   |   |   |--- bmi <= 17.39\n",
       "|   |   |   |   |   |   |--- bmi <= 16.39\n",
       "|   |   |   |   |   |   |   |--- class: 1694\n",
       "|   |   |   |   |   |   |--- bmi >  16.39\n",
       "|   |   |   |   |   |   |   |--- bmi <= 17.01\n",
       "|   |   |   |   |   |   |   |   |--- class: 3167\n",
       "|   |   |   |   |   |   |   |--- bmi >  17.01\n",
       "|   |   |   |   |   |   |   |   |--- bmi <= 17.24\n",
       "|   |   |   |   |   |   |   |   |   |--- class: 14455\n",
       "|   |   |   |   |   |   |   |   |--- bmi >  17.24\n",
       "|   |   |   |   |   |   |   |   |   |--- bmi <= 17.34\n",
       "|   |   |   |   |   |   |   |   |   |   |--- class: 3732\n",
       "|   |   |   |   |   |   |   |   |   |--- bmi >  17.34\n",
       "|   |   |   |   |   |   |   |   |   |   |--- class: 2775\n",
       "|   |   |   |   |   |--- bmi >  17.39\n",
       "|   |   |   |   |   |   |--- bmi <= 22.18\n",
       "|   |   |   |   |   |   |   |--- bmi <= 20.75\n",
       "|   |   |   |   |   |   |   |   |--- bmi <= 20.27\n",
       "|   |   |   |   |   |   |   |   |   |--- bmi <= 17.44\n",
       "|   |   |   |   |   |   |   |   |   |   |--- class: 2585\n",
       "|   |   |   |   |   |   |   |   |   |--- bmi >  17.44\n",
       "|   |   |   |   |   |   |   |   |   |   |--- bmi <= 17.57\n",
       "|   |   |   |   |   |   |   |   |   |   |   |--- class: 1621\n",
       "|   |   |   |   |   |   |   |   |   |   |--- bmi >  17.57\n",
       "|   |   |   |   |   |   |   |   |   |   |   |--- truncated branch of depth 25\n",
       "|   |   |   |   |   |   |   |   |--- bmi >  20.27\n",
       "|   |   |   |   |   |   |   |   |   |--- bmi <= 20.32\n",
       "|   |   |   |   |   |   |   |   |   |   |--- class: 1242\n",
       "|   |   |   |   |   |   |   |   |   |--- bmi >  20.32\n",
       "|   |   |   |   |   |   |   |   |   |   |--- bmi <= 20.38\n",
       "|   |   |   |   |   |   |   |   |   |   |   |--- class: 8605\n",
       "|   |   |   |   |   |   |   |   |   |   |--- bmi >  20.38\n",
       "|   |   |   |   |   |   |   |   |   |   |   |--- truncated branch of depth 6\n",
       "|   |   |   |   |   |   |   |--- bmi >  20.75\n",
       "|   |   |   |   |   |   |   |   |--- bmi <= 20.80\n",
       "|   |   |   |   |   |   |   |   |   |--- class: 1607\n",
       "|   |   |   |   |   |   |   |   |--- bmi >  20.80\n",
       "|   |   |   |   |   |   |   |   |   |--- bmi <= 20.85\n",
       "|   |   |   |   |   |   |   |   |   |   |--- class: 2302\n",
       "|   |   |   |   |   |   |   |   |   |--- bmi >  20.85\n",
       "|   |   |   |   |   |   |   |   |   |   |--- bmi <= 20.95\n",
       "|   |   |   |   |   |   |   |   |   |   |   |--- class: 1832\n",
       "|   |   |   |   |   |   |   |   |   |   |--- bmi >  20.95\n",
       "|   |   |   |   |   |   |   |   |   |   |   |--- truncated branch of depth 23\n",
       "|   |   |   |   |   |   |--- bmi >  22.18\n",
       "|   |   |   |   |   |   |   |--- class: 19444\n",
       "|   |   |   |   |--- bmi >  22.22\n",
       "|   |   |   |   |   |--- bmi <= 22.66\n",
       "|   |   |   |   |   |   |--- bmi <= 22.26\n",
       "|   |   |   |   |   |   |   |--- class: 3176\n",
       "|   |   |   |   |   |   |--- bmi >  22.26\n",
       "|   |   |   |   |   |   |   |--- bmi <= 22.36\n",
       "|   |   |   |   |   |   |   |   |--- class: 2103\n",
       "|   |   |   |   |   |   |   |--- bmi >  22.36\n",
       "|   |   |   |   |   |   |   |   |--- bmi <= 22.47\n",
       "|   |   |   |   |   |   |   |   |   |--- class: 9361\n",
       "|   |   |   |   |   |   |   |   |--- bmi >  22.47\n",
       "|   |   |   |   |   |   |   |   |   |--- bmi <= 22.56\n",
       "|   |   |   |   |   |   |   |   |   |   |--- class: 2117\n",
       "|   |   |   |   |   |   |   |   |   |--- bmi >  22.56\n",
       "|   |   |   |   |   |   |   |   |   |   |--- bmi <= 22.61\n",
       "|   |   |   |   |   |   |   |   |   |   |   |--- class: 2457\n",
       "|   |   |   |   |   |   |   |   |   |   |--- bmi >  22.61\n",
       "|   |   |   |   |   |   |   |   |   |   |   |--- class: 1628\n",
       "|   |   |   |   |   |--- bmi >  22.66\n",
       "|   |   |   |   |   |   |--- bmi <= 22.74\n",
       "|   |   |   |   |   |   |   |--- class: 6985\n",
       "|   |   |   |   |   |   |--- bmi >  22.74\n",
       "|   |   |   |   |   |   |   |--- bmi <= 22.78\n",
       "|   |   |   |   |   |   |   |   |--- class: 11833\n",
       "|   |   |   |   |   |   |   |--- bmi >  22.78\n",
       "|   |   |   |   |   |   |   |   |--- bmi <= 22.84\n",
       "|   |   |   |   |   |   |   |   |   |--- class: 7985\n",
       "|   |   |   |   |   |   |   |   |--- bmi >  22.84\n",
       "|   |   |   |   |   |   |   |   |   |--- class: 23244\n",
       "|   |   |   |--- bmi >  22.89\n",
       "|   |   |   |   |--- bmi <= 23.09\n",
       "|   |   |   |   |   |--- bmi <= 22.94\n",
       "|   |   |   |   |   |   |--- class: 4719\n",
       "|   |   |   |   |   |--- bmi >  22.94\n",
       "|   |   |   |   |   |   |--- bmi <= 22.99\n",
       "|   |   |   |   |   |   |   |--- class: 1704\n",
       "|   |   |   |   |   |   |--- bmi >  22.99\n",
       "|   |   |   |   |   |   |   |--- bmi <= 23.04\n",
       "|   |   |   |   |   |   |   |   |--- class: 12094\n",
       "|   |   |   |   |   |   |   |--- bmi >  23.04\n",
       "|   |   |   |   |   |   |   |   |--- class: 1704\n",
       "|   |   |   |   |--- bmi >  23.09\n",
       "|   |   |   |   |   |--- bmi <= 23.14\n",
       "|   |   |   |   |   |   |--- class: 2483\n",
       "|   |   |   |   |   |--- bmi >  23.14\n",
       "|   |   |   |   |   |   |--- bmi <= 23.19\n",
       "|   |   |   |   |   |   |   |--- class: 2731\n",
       "|   |   |   |   |   |   |--- bmi >  23.19\n",
       "|   |   |   |   |   |   |   |--- bmi <= 23.20\n",
       "|   |   |   |   |   |   |   |   |--- class: 6250\n",
       "|   |   |   |   |   |   |   |--- bmi >  23.20\n",
       "|   |   |   |   |   |   |   |   |--- bmi <= 23.24\n",
       "|   |   |   |   |   |   |   |   |   |--- class: 1121\n",
       "|   |   |   |   |   |   |   |   |--- bmi >  23.24\n",
       "|   |   |   |   |   |   |   |   |   |--- bmi <= 23.29\n",
       "|   |   |   |   |   |   |   |   |   |   |--- class: 7986\n",
       "|   |   |   |   |   |   |   |   |   |--- bmi >  23.29\n",
       "|   |   |   |   |   |   |   |   |   |   |--- bmi <= 23.31\n",
       "|   |   |   |   |   |   |   |   |   |   |   |--- class: 11345\n",
       "|   |   |   |   |   |   |   |   |   |   |--- bmi >  23.31\n",
       "|   |   |   |   |   |   |   |   |   |   |   |--- truncated branch of depth 29\n",
       "|   |   |--- bmi >  24.47\n",
       "|   |   |   |--- bmi <= 24.62\n",
       "|   |   |   |   |--- bmi <= 24.52\n",
       "|   |   |   |   |   |--- class: 2396\n",
       "|   |   |   |   |--- bmi >  24.52\n",
       "|   |   |   |   |   |--- bmi <= 24.57\n",
       "|   |   |   |   |   |   |--- class: 12629\n",
       "|   |   |   |   |   |--- bmi >  24.57\n",
       "|   |   |   |   |   |   |--- bmi <= 24.60\n",
       "|   |   |   |   |   |   |   |--- class: 1837\n",
       "|   |   |   |   |   |   |--- bmi >  24.60\n",
       "|   |   |   |   |   |   |   |--- class: 2709\n",
       "|   |   |   |--- bmi >  24.62\n",
       "|   |   |   |   |--- bmi <= 25.14\n",
       "|   |   |   |   |   |--- bmi <= 24.67\n",
       "|   |   |   |   |   |   |--- class: 19515\n",
       "|   |   |   |   |   |--- bmi >  24.67\n",
       "|   |   |   |   |   |   |--- bmi <= 24.73\n",
       "|   |   |   |   |   |   |   |--- class: 1737\n",
       "|   |   |   |   |   |   |--- bmi >  24.73\n",
       "|   |   |   |   |   |   |   |--- bmi <= 24.77\n",
       "|   |   |   |   |   |   |   |   |--- class: 16577\n",
       "|   |   |   |   |   |   |   |--- bmi >  24.77\n",
       "|   |   |   |   |   |   |   |   |--- bmi <= 24.83\n",
       "|   |   |   |   |   |   |   |   |   |--- class: 9500\n",
       "|   |   |   |   |   |   |   |   |--- bmi >  24.83\n",
       "|   |   |   |   |   |   |   |   |   |--- bmi <= 24.88\n",
       "|   |   |   |   |   |   |   |   |   |   |--- class: 5966\n",
       "|   |   |   |   |   |   |   |   |   |--- bmi >  24.88\n",
       "|   |   |   |   |   |   |   |   |   |   |--- bmi <= 24.93\n",
       "|   |   |   |   |   |   |   |   |   |   |   |--- class: 21659\n",
       "|   |   |   |   |   |   |   |   |   |   |--- bmi >  24.93\n",
       "|   |   |   |   |   |   |   |   |   |   |   |--- truncated branch of depth 5\n",
       "|   |   |   |   |--- bmi >  25.14\n",
       "|   |   |   |   |   |--- bmi <= 25.58\n",
       "|   |   |   |   |   |   |--- bmi <= 25.19\n",
       "|   |   |   |   |   |   |   |--- class: 1632\n",
       "|   |   |   |   |   |   |--- bmi >  25.19\n",
       "|   |   |   |   |   |   |   |--- bmi <= 25.24\n",
       "|   |   |   |   |   |   |   |   |--- class: 11837\n",
       "|   |   |   |   |   |   |   |--- bmi >  25.24\n",
       "|   |   |   |   |   |   |   |   |--- bmi <= 25.28\n",
       "|   |   |   |   |   |   |   |   |   |--- class: 3044\n",
       "|   |   |   |   |   |   |   |   |--- bmi >  25.28\n",
       "|   |   |   |   |   |   |   |   |   |--- bmi <= 25.33\n",
       "|   |   |   |   |   |   |   |   |   |   |--- class: 7045\n",
       "|   |   |   |   |   |   |   |   |   |--- bmi >  25.33\n",
       "|   |   |   |   |   |   |   |   |   |   |--- bmi <= 25.38\n",
       "|   |   |   |   |   |   |   |   |   |   |   |--- class: 7518\n",
       "|   |   |   |   |   |   |   |   |   |   |--- bmi >  25.38\n",
       "|   |   |   |   |   |   |   |   |   |   |   |--- truncated branch of depth 5\n",
       "|   |   |   |   |   |--- bmi >  25.58\n",
       "|   |   |   |   |   |   |--- bmi <= 25.62\n",
       "|   |   |   |   |   |   |   |--- class: 5708\n",
       "|   |   |   |   |   |   |--- bmi >  25.62\n",
       "|   |   |   |   |   |   |   |--- bmi <= 25.68\n",
       "|   |   |   |   |   |   |   |   |--- class: 11454\n",
       "|   |   |   |   |   |   |   |--- bmi >  25.68\n",
       "|   |   |   |   |   |   |   |   |--- bmi <= 25.72\n",
       "|   |   |   |   |   |   |   |   |   |--- class: 9101\n",
       "|   |   |   |   |   |   |   |   |--- bmi >  25.72\n",
       "|   |   |   |   |   |   |   |   |   |--- bmi <= 25.74\n",
       "|   |   |   |   |   |   |   |   |   |   |--- class: 2137\n",
       "|   |   |   |   |   |   |   |   |   |--- bmi >  25.74\n",
       "|   |   |   |   |   |   |   |   |   |   |--- bmi <= 25.77\n",
       "|   |   |   |   |   |   |   |   |   |   |   |--- class: 2710\n",
       "|   |   |   |   |   |   |   |   |   |   |--- bmi >  25.77\n",
       "|   |   |   |   |   |   |   |   |   |   |   |--- truncated branch of depth 8\n",
       "|   |--- bmi >  26.15\n",
       "|   |   |--- bmi <= 32.93\n",
       "|   |   |   |--- bmi <= 28.99\n",
       "|   |   |   |   |--- bmi <= 28.55\n",
       "|   |   |   |   |   |--- bmi <= 27.71\n",
       "|   |   |   |   |   |   |--- bmi <= 27.23\n",
       "|   |   |   |   |   |   |   |--- bmi <= 26.19\n",
       "|   |   |   |   |   |   |   |   |--- class: 2304\n",
       "|   |   |   |   |   |   |   |--- bmi >  26.19\n",
       "|   |   |   |   |   |   |   |   |--- bmi <= 26.21\n",
       "|   |   |   |   |   |   |   |   |   |--- class: 4883\n",
       "|   |   |   |   |   |   |   |   |--- bmi >  26.21\n",
       "|   |   |   |   |   |   |   |   |   |--- bmi <= 26.26\n",
       "|   |   |   |   |   |   |   |   |   |   |--- class: 2721\n",
       "|   |   |   |   |   |   |   |   |   |--- bmi >  26.26\n",
       "|   |   |   |   |   |   |   |   |   |   |--- bmi <= 26.30\n",
       "|   |   |   |   |   |   |   |   |   |   |   |--- class: 27808\n",
       "|   |   |   |   |   |   |   |   |   |   |--- bmi >  26.30\n",
       "|   |   |   |   |   |   |   |   |   |   |   |--- truncated branch of depth 22\n",
       "|   |   |   |   |   |   |--- bmi >  27.23\n",
       "|   |   |   |   |   |   |   |--- bmi <= 27.38\n",
       "|   |   |   |   |   |   |   |   |--- bmi <= 27.27\n",
       "|   |   |   |   |   |   |   |   |   |--- class: 4661\n",
       "|   |   |   |   |   |   |   |   |--- bmi >  27.27\n",
       "|   |   |   |   |   |   |   |   |   |--- bmi <= 27.29\n",
       "|   |   |   |   |   |   |   |   |   |   |--- class: 18223\n",
       "|   |   |   |   |   |   |   |   |   |--- bmi >  27.29\n",
       "|   |   |   |   |   |   |   |   |   |   |--- bmi <= 27.33\n",
       "|   |   |   |   |   |   |   |   |   |   |   |--- class: 16232\n",
       "|   |   |   |   |   |   |   |   |   |   |--- bmi >  27.33\n",
       "|   |   |   |   |   |   |   |   |   |   |   |--- class: 2104\n",
       "|   |   |   |   |   |   |   |--- bmi >  27.38\n",
       "|   |   |   |   |   |   |   |   |--- bmi <= 27.43\n",
       "|   |   |   |   |   |   |   |   |   |--- class: 6496\n",
       "|   |   |   |   |   |   |   |   |--- bmi >  27.43\n",
       "|   |   |   |   |   |   |   |   |   |--- bmi <= 27.48\n",
       "|   |   |   |   |   |   |   |   |   |   |--- class: 5261\n",
       "|   |   |   |   |   |   |   |   |   |--- bmi >  27.48\n",
       "|   |   |   |   |   |   |   |   |   |   |--- bmi <= 27.52\n",
       "|   |   |   |   |   |   |   |   |   |   |   |--- class: 5003\n",
       "|   |   |   |   |   |   |   |   |   |   |--- bmi >  27.52\n",
       "|   |   |   |   |   |   |   |   |   |   |   |--- truncated branch of depth 5\n",
       "|   |   |   |   |   |--- bmi >  27.71\n",
       "|   |   |   |   |   |   |--- bmi <= 27.83\n",
       "|   |   |   |   |   |   |   |--- bmi <= 27.73\n",
       "|   |   |   |   |   |   |   |   |--- class: 2464\n",
       "|   |   |   |   |   |   |   |--- bmi >  27.73\n",
       "|   |   |   |   |   |   |   |   |--- bmi <= 27.77\n",
       "|   |   |   |   |   |   |   |   |   |--- class: 5469\n",
       "|   |   |   |   |   |   |   |   |--- bmi >  27.77\n",
       "|   |   |   |   |   |   |   |   |   |--- bmi <= 27.81\n",
       "|   |   |   |   |   |   |   |   |   |   |--- class: 37829\n",
       "|   |   |   |   |   |   |   |   |   |--- bmi >  27.81\n",
       "|   |   |   |   |   |   |   |   |   |   |--- class: 8515\n",
       "|   |   |   |   |   |   |--- bmi >  27.83\n",
       "|   |   |   |   |   |   |   |--- bmi <= 27.87\n",
       "|   |   |   |   |   |   |   |   |--- class: 1635\n",
       "|   |   |   |   |   |   |   |--- bmi >  27.87\n",
       "|   |   |   |   |   |   |   |   |--- bmi <= 27.91\n",
       "|   |   |   |   |   |   |   |   |   |--- class: 16884\n",
       "|   |   |   |   |   |   |   |   |--- bmi >  27.91\n",
       "|   |   |   |   |   |   |   |   |   |--- bmi <= 27.94\n",
       "|   |   |   |   |   |   |   |   |   |   |--- class: 1967\n",
       "|   |   |   |   |   |   |   |   |   |--- bmi >  27.94\n",
       "|   |   |   |   |   |   |   |   |   |   |--- bmi <= 27.97\n",
       "|   |   |   |   |   |   |   |   |   |   |   |--- class: 2867\n",
       "|   |   |   |   |   |   |   |   |   |   |--- bmi >  27.97\n",
       "|   |   |   |   |   |   |   |   |   |   |   |--- truncated branch of depth 16\n",
       "|   |   |   |   |--- bmi >  28.55\n",
       "|   |   |   |   |   |--- bmi <= 28.79\n",
       "|   |   |   |   |   |   |--- bmi <= 28.60\n",
       "|   |   |   |   |   |   |   |--- class: 3213\n",
       "|   |   |   |   |   |   |--- bmi >  28.60\n",
       "|   |   |   |   |   |   |   |--- bmi <= 28.65\n",
       "|   |   |   |   |   |   |   |   |--- class: 4687\n",
       "|   |   |   |   |   |   |   |--- bmi >  28.65\n",
       "|   |   |   |   |   |   |   |   |--- bmi <= 28.70\n",
       "|   |   |   |   |   |   |   |   |   |--- class: 8059\n",
       "|   |   |   |   |   |   |   |   |--- bmi >  28.70\n",
       "|   |   |   |   |   |   |   |   |   |--- bmi <= 28.74\n",
       "|   |   |   |   |   |   |   |   |   |   |--- class: 1253\n",
       "|   |   |   |   |   |   |   |   |   |--- bmi >  28.74\n",
       "|   |   |   |   |   |   |   |   |   |   |--- class: 2457\n",
       "|   |   |   |   |   |--- bmi >  28.79\n",
       "|   |   |   |   |   |   |--- bmi <= 28.81\n",
       "|   |   |   |   |   |   |   |--- class: 6282\n",
       "|   |   |   |   |   |   |--- bmi >  28.81\n",
       "|   |   |   |   |   |   |   |--- bmi <= 28.85\n",
       "|   |   |   |   |   |   |   |   |--- class: 2156\n",
       "|   |   |   |   |   |   |   |--- bmi >  28.85\n",
       "|   |   |   |   |   |   |   |   |--- bmi <= 28.89\n",
       "|   |   |   |   |   |   |   |   |   |--- class: 2250\n",
       "|   |   |   |   |   |   |   |   |--- bmi >  28.89\n",
       "|   |   |   |   |   |   |   |   |   |--- bmi <= 28.91\n",
       "|   |   |   |   |   |   |   |   |   |   |--- class: 1743\n",
       "|   |   |   |   |   |   |   |   |   |--- bmi >  28.91\n",
       "|   |   |   |   |   |   |   |   |   |   |--- bmi <= 28.95\n",
       "|   |   |   |   |   |   |   |   |   |   |   |--- class: 3972\n",
       "|   |   |   |   |   |   |   |   |   |   |--- bmi >  28.95\n",
       "|   |   |   |   |   |   |   |   |   |   |   |--- class: 1906\n",
       "|   |   |   |--- bmi >  28.99\n",
       "|   |   |   |   |--- bmi <= 30.17\n",
       "|   |   |   |   |   |--- bmi <= 29.47\n",
       "|   |   |   |   |   |   |--- bmi <= 29.02\n",
       "|   |   |   |   |   |   |   |--- class: 7050\n",
       "|   |   |   |   |   |   |--- bmi >  29.02\n",
       "|   |   |   |   |   |   |   |--- bmi <= 29.06\n",
       "|   |   |   |   |   |   |   |   |--- class: 7243\n",
       "|   |   |   |   |   |   |   |--- bmi >  29.06\n",
       "|   |   |   |   |   |   |   |   |--- bmi <= 29.09\n",
       "|   |   |   |   |   |   |   |   |   |--- class: 17352\n",
       "|   |   |   |   |   |   |   |   |--- bmi >  29.09\n",
       "|   |   |   |   |   |   |   |   |   |--- bmi <= 29.12\n",
       "|   |   |   |   |   |   |   |   |   |   |--- class: 3761\n",
       "|   |   |   |   |   |   |   |   |   |--- bmi >  29.12\n",
       "|   |   |   |   |   |   |   |   |   |   |--- bmi <= 29.16\n",
       "|   |   |   |   |   |   |   |   |   |   |   |--- class: 2902\n",
       "|   |   |   |   |   |   |   |   |   |   |--- bmi >  29.16\n",
       "|   |   |   |   |   |   |   |   |   |   |   |--- truncated branch of depth 8\n",
       "|   |   |   |   |   |--- bmi >  29.47\n",
       "|   |   |   |   |   |   |--- bmi <= 29.92\n",
       "|   |   |   |   |   |   |   |--- bmi <= 29.49\n",
       "|   |   |   |   |   |   |   |   |--- class: 3392\n",
       "|   |   |   |   |   |   |   |--- bmi >  29.49\n",
       "|   |   |   |   |   |   |   |   |--- bmi <= 29.52\n",
       "|   |   |   |   |   |   |   |   |   |--- class: 6311\n",
       "|   |   |   |   |   |   |   |   |--- bmi >  29.52\n",
       "|   |   |   |   |   |   |   |   |   |--- bmi <= 29.57\n",
       "|   |   |   |   |   |   |   |   |   |   |--- class: 8930\n",
       "|   |   |   |   |   |   |   |   |   |--- bmi >  29.57\n",
       "|   |   |   |   |   |   |   |   |   |   |--- bmi <= 29.60\n",
       "|   |   |   |   |   |   |   |   |   |   |   |--- class: 3947\n",
       "|   |   |   |   |   |   |   |   |   |   |--- bmi >  29.60\n",
       "|   |   |   |   |   |   |   |   |   |   |   |--- truncated branch of depth 9\n",
       "|   |   |   |   |   |   |--- bmi >  29.92\n",
       "|   |   |   |   |   |   |   |--- bmi <= 29.96\n",
       "|   |   |   |   |   |   |   |   |--- class: 2850\n",
       "|   |   |   |   |   |   |   |--- bmi >  29.96\n",
       "|   |   |   |   |   |   |   |   |--- bmi <= 30.01\n",
       "|   |   |   |   |   |   |   |   |   |--- class: 2904\n",
       "|   |   |   |   |   |   |   |   |--- bmi >  30.01\n",
       "|   |   |   |   |   |   |   |   |   |--- bmi <= 30.03\n",
       "|   |   |   |   |   |   |   |   |   |   |--- class: 5272\n",
       "|   |   |   |   |   |   |   |   |   |--- bmi >  30.03\n",
       "|   |   |   |   |   |   |   |   |   |   |--- bmi <= 30.07\n",
       "|   |   |   |   |   |   |   |   |   |   |   |--- class: 1720\n",
       "|   |   |   |   |   |   |   |   |   |   |--- bmi >  30.07\n",
       "|   |   |   |   |   |   |   |   |   |   |   |--- truncated branch of depth 3\n",
       "|   |   |   |   |--- bmi >  30.17\n",
       "|   |   |   |   |   |--- bmi <= 30.64\n",
       "|   |   |   |   |   |   |--- bmi <= 30.55\n",
       "|   |   |   |   |   |   |   |--- bmi <= 30.20\n",
       "|   |   |   |   |   |   |   |   |--- class: 7441\n",
       "|   |   |   |   |   |   |   |--- bmi >  30.20\n",
       "|   |   |   |   |   |   |   |   |--- bmi <= 30.23\n",
       "|   |   |   |   |   |   |   |   |   |--- class: 4618\n",
       "|   |   |   |   |   |   |   |   |--- bmi >  30.23\n",
       "|   |   |   |   |   |   |   |   |   |--- bmi <= 30.27\n",
       "|   |   |   |   |   |   |   |   |   |   |--- class: 3704\n",
       "|   |   |   |   |   |   |   |   |   |--- bmi >  30.27\n",
       "|   |   |   |   |   |   |   |   |   |   |--- bmi <= 30.30\n",
       "|   |   |   |   |   |   |   |   |   |   |   |--- class: 2632\n",
       "|   |   |   |   |   |   |   |   |   |   |--- bmi >  30.30\n",
       "|   |   |   |   |   |   |   |   |   |   |   |--- truncated branch of depth 5\n",
       "|   |   |   |   |   |   |--- bmi >  30.55\n",
       "|   |   |   |   |   |   |   |--- class: 1639\n",
       "|   |   |   |   |   |--- bmi >  30.64\n",
       "|   |   |   |   |   |   |--- bmi <= 31.70\n",
       "|   |   |   |   |   |   |   |--- bmi <= 30.69\n",
       "|   |   |   |   |   |   |   |   |--- class: 8310\n",
       "|   |   |   |   |   |   |   |--- bmi >  30.69\n",
       "|   |   |   |   |   |   |   |   |--- bmi <= 30.74\n",
       "|   |   |   |   |   |   |   |   |   |--- class: 5976\n",
       "|   |   |   |   |   |   |   |   |--- bmi >  30.74\n",
       "|   |   |   |   |   |   |   |   |   |--- bmi <= 30.79\n",
       "|   |   |   |   |   |   |   |   |   |   |--- class: 9778\n",
       "|   |   |   |   |   |   |   |   |   |--- bmi >  30.79\n",
       "|   |   |   |   |   |   |   |   |   |   |--- bmi <= 30.84\n",
       "|   |   |   |   |   |   |   |   |   |   |   |--- class: 4646\n",
       "|   |   |   |   |   |   |   |   |   |   |--- bmi >  30.84\n",
       "|   |   |   |   |   |   |   |   |   |   |   |--- truncated branch of depth 23\n",
       "|   |   |   |   |   |   |--- bmi >  31.70\n",
       "|   |   |   |   |   |   |   |--- bmi <= 32.11\n",
       "|   |   |   |   |   |   |   |   |--- bmi <= 31.76\n",
       "|   |   |   |   |   |   |   |   |   |--- class: 2254\n",
       "|   |   |   |   |   |   |   |   |--- bmi >  31.76\n",
       "|   |   |   |   |   |   |   |   |   |--- bmi <= 31.80\n",
       "|   |   |   |   |   |   |   |   |   |   |--- class: 3056\n",
       "|   |   |   |   |   |   |   |   |   |--- bmi >  31.80\n",
       "|   |   |   |   |   |   |   |   |   |   |--- bmi <= 31.81\n",
       "|   |   |   |   |   |   |   |   |   |   |   |--- class: 13880\n",
       "|   |   |   |   |   |   |   |   |   |   |--- bmi >  31.81\n",
       "|   |   |   |   |   |   |   |   |   |   |   |--- truncated branch of depth 8\n",
       "|   |   |   |   |   |   |   |--- bmi >  32.11\n",
       "|   |   |   |   |   |   |   |   |--- bmi <= 32.16\n",
       "|   |   |   |   |   |   |   |   |   |--- class: 2801\n",
       "|   |   |   |   |   |   |   |   |--- bmi >  32.16\n",
       "|   |   |   |   |   |   |   |   |   |--- bmi <= 32.20\n",
       "|   |   |   |   |   |   |   |   |   |   |--- class: 6775\n",
       "|   |   |   |   |   |   |   |   |   |--- bmi >  32.20\n",
       "|   |   |   |   |   |   |   |   |   |   |--- bmi <= 32.22\n",
       "|   |   |   |   |   |   |   |   |   |   |   |--- class: 8835\n",
       "|   |   |   |   |   |   |   |   |   |   |--- bmi >  32.22\n",
       "|   |   |   |   |   |   |   |   |   |   |   |--- truncated branch of depth 19\n",
       "|   |   |--- bmi >  32.93\n",
       "|   |   |   |--- bmi <= 33.47\n",
       "|   |   |   |   |--- bmi <= 33.34\n",
       "|   |   |   |   |   |--- bmi <= 33.32\n",
       "|   |   |   |   |   |   |--- bmi <= 32.98\n",
       "|   |   |   |   |   |   |   |--- class: 6571\n",
       "|   |   |   |   |   |   |--- bmi >  32.98\n",
       "|   |   |   |   |   |   |   |--- bmi <= 33.03\n",
       "|   |   |   |   |   |   |   |   |--- class: 1880\n",
       "|   |   |   |   |   |   |   |--- bmi >  33.03\n",
       "|   |   |   |   |   |   |   |   |--- bmi <= 33.08\n",
       "|   |   |   |   |   |   |   |   |   |--- class: 7749\n",
       "|   |   |   |   |   |   |   |   |--- bmi >  33.08\n",
       "|   |   |   |   |   |   |   |   |   |--- bmi <= 33.10\n",
       "|   |   |   |   |   |   |   |   |   |   |--- class: 7345\n",
       "|   |   |   |   |   |   |   |   |   |--- bmi >  33.10\n",
       "|   |   |   |   |   |   |   |   |   |   |--- bmi <= 33.13\n",
       "|   |   |   |   |   |   |   |   |   |   |   |--- class: 3171\n",
       "|   |   |   |   |   |   |   |   |   |   |--- bmi >  33.13\n",
       "|   |   |   |   |   |   |   |   |   |   |   |--- truncated branch of depth 4\n",
       "|   |   |   |   |   |--- bmi >  33.32\n",
       "|   |   |   |   |   |   |--- class: 1135\n",
       "|   |   |   |   |--- bmi >  33.34\n",
       "|   |   |   |   |   |--- bmi <= 33.37\n",
       "|   |   |   |   |   |   |--- class: 2855\n",
       "|   |   |   |   |   |--- bmi >  33.37\n",
       "|   |   |   |   |   |   |--- bmi <= 33.42\n",
       "|   |   |   |   |   |   |   |--- class: 3172\n",
       "|   |   |   |   |   |   |--- bmi >  33.42\n",
       "|   |   |   |   |   |   |   |--- class: 6653\n",
       "|   |   |   |--- bmi >  33.47\n",
       "|   |   |   |   |--- bmi <= 34.46\n",
       "|   |   |   |   |   |--- bmi <= 34.05\n",
       "|   |   |   |   |   |   |--- bmi <= 33.95\n",
       "|   |   |   |   |   |   |   |--- bmi <= 33.52\n",
       "|   |   |   |   |   |   |   |   |--- class: 37079\n",
       "|   |   |   |   |   |   |   |--- bmi >  33.52\n",
       "|   |   |   |   |   |   |   |   |--- bmi <= 33.54\n",
       "|   |   |   |   |   |   |   |   |   |--- class: 12269\n",
       "|   |   |   |   |   |   |   |   |--- bmi >  33.54\n",
       "|   |   |   |   |   |   |   |   |   |--- bmi <= 33.59\n",
       "|   |   |   |   |   |   |   |   |   |   |--- class: 5699\n",
       "|   |   |   |   |   |   |   |   |   |--- bmi >  33.59\n",
       "|   |   |   |   |   |   |   |   |   |   |--- bmi <= 33.65\n",
       "|   |   |   |   |   |   |   |   |   |   |   |--- class: 3579\n",
       "|   |   |   |   |   |   |   |   |   |   |--- bmi >  33.65\n",
       "|   |   |   |   |   |   |   |   |   |   |   |--- truncated branch of depth 8\n",
       "|   |   |   |   |   |   |--- bmi >  33.95\n",
       "|   |   |   |   |   |   |   |--- bmi <= 34.00\n",
       "|   |   |   |   |   |   |   |   |--- class: 2473\n",
       "|   |   |   |   |   |   |   |--- bmi >  34.00\n",
       "|   |   |   |   |   |   |   |   |--- class: 11356\n",
       "|   |   |   |   |   |--- bmi >  34.05\n",
       "|   |   |   |   |   |   |--- bmi <= 34.42\n",
       "|   |   |   |   |   |   |   |--- bmi <= 34.10\n",
       "|   |   |   |   |   |   |   |   |--- class: 1137\n",
       "|   |   |   |   |   |   |   |--- bmi >  34.10\n",
       "|   |   |   |   |   |   |   |   |--- bmi <= 34.15\n",
       "|   |   |   |   |   |   |   |   |   |--- class: 6112\n",
       "|   |   |   |   |   |   |   |   |--- bmi >  34.15\n",
       "|   |   |   |   |   |   |   |   |   |--- bmi <= 34.20\n",
       "|   |   |   |   |   |   |   |   |   |   |--- class: 3987\n",
       "|   |   |   |   |   |   |   |   |   |--- bmi >  34.20\n",
       "|   |   |   |   |   |   |   |   |   |   |--- bmi <= 34.25\n",
       "|   |   |   |   |   |   |   |   |   |   |   |--- class: 3935\n",
       "|   |   |   |   |   |   |   |   |   |   |--- bmi >  34.25\n",
       "|   |   |   |   |   |   |   |   |   |   |   |--- truncated branch of depth 5\n",
       "|   |   |   |   |   |   |--- bmi >  34.42\n",
       "|   |   |   |   |   |   |   |--- class: 1137\n",
       "|   |   |   |   |--- bmi >  34.46\n",
       "|   |   |   |   |   |--- bmi <= 34.89\n",
       "|   |   |   |   |   |   |--- bmi <= 34.59\n",
       "|   |   |   |   |   |   |   |--- bmi <= 34.49\n",
       "|   |   |   |   |   |   |   |   |--- class: 3021\n",
       "|   |   |   |   |   |   |   |--- bmi >  34.49\n",
       "|   |   |   |   |   |   |   |   |--- bmi <= 34.54\n",
       "|   |   |   |   |   |   |   |   |   |--- class: 13822\n",
       "|   |   |   |   |   |   |   |   |--- bmi >  34.54\n",
       "|   |   |   |   |   |   |   |   |   |--- class: 3925\n",
       "|   |   |   |   |   |   |--- bmi >  34.59\n",
       "|   |   |   |   |   |   |   |--- bmi <= 34.64\n",
       "|   |   |   |   |   |   |   |   |--- class: 2020\n",
       "|   |   |   |   |   |   |   |--- bmi >  34.64\n",
       "|   |   |   |   |   |   |   |   |--- bmi <= 34.69\n",
       "|   |   |   |   |   |   |   |   |   |--- class: 4518\n",
       "|   |   |   |   |   |   |   |   |--- bmi >  34.69\n",
       "|   |   |   |   |   |   |   |   |   |--- bmi <= 34.74\n",
       "|   |   |   |   |   |   |   |   |   |   |--- class: 6082\n",
       "|   |   |   |   |   |   |   |   |   |--- bmi >  34.74\n",
       "|   |   |   |   |   |   |   |   |   |   |--- bmi <= 34.78\n",
       "|   |   |   |   |   |   |   |   |   |   |   |--- class: 3556\n",
       "|   |   |   |   |   |   |   |   |   |   |--- bmi >  34.78\n",
       "|   |   |   |   |   |   |   |   |   |   |   |--- truncated branch of depth 3\n",
       "|   |   |   |   |   |--- bmi >  34.89\n",
       "|   |   |   |   |   |   |--- bmi <= 35.99\n",
       "|   |   |   |   |   |   |   |--- bmi <= 35.77\n",
       "|   |   |   |   |   |   |   |   |--- bmi <= 34.93\n",
       "|   |   |   |   |   |   |   |   |   |--- class: 34828\n",
       "|   |   |   |   |   |   |   |   |--- bmi >  34.93\n",
       "|   |   |   |   |   |   |   |   |   |--- bmi <= 35.02\n",
       "|   |   |   |   |   |   |   |   |   |   |--- class: 4466\n",
       "|   |   |   |   |   |   |   |   |   |--- bmi >  35.02\n",
       "|   |   |   |   |   |   |   |   |   |   |--- bmi <= 35.09\n",
       "|   |   |   |   |   |   |   |   |   |   |   |--- class: 47055\n",
       "|   |   |   |   |   |   |   |   |   |   |--- bmi >  35.09\n",
       "|   |   |   |   |   |   |   |   |   |   |   |--- truncated branch of depth 17\n",
       "|   |   |   |   |   |   |   |--- bmi >  35.77\n",
       "|   |   |   |   |   |   |   |   |--- bmi <= 35.81\n",
       "|   |   |   |   |   |   |   |   |   |--- class: 7160\n",
       "|   |   |   |   |   |   |   |   |--- bmi >  35.81\n",
       "|   |   |   |   |   |   |   |   |   |--- bmi <= 35.84\n",
       "|   |   |   |   |   |   |   |   |   |   |--- class: 4320\n",
       "|   |   |   |   |   |   |   |   |   |--- bmi >  35.84\n",
       "|   |   |   |   |   |   |   |   |   |   |--- bmi <= 35.88\n",
       "|   |   |   |   |   |   |   |   |   |   |   |--- class: 1986\n",
       "|   |   |   |   |   |   |   |   |   |   |--- bmi >  35.88\n",
       "|   |   |   |   |   |   |   |   |   |   |   |--- truncated branch of depth 3\n",
       "|   |   |   |   |   |   |--- bmi >  35.99\n",
       "|   |   |   |   |   |   |   |--- bmi <= 36.85\n",
       "|   |   |   |   |   |   |   |   |--- bmi <= 36.30\n",
       "|   |   |   |   |   |   |   |   |   |--- bmi <= 36.00\n",
       "|   |   |   |   |   |   |   |   |   |   |--- class: 2166\n",
       "|   |   |   |   |   |   |   |   |   |--- bmi >  36.00\n",
       "|   |   |   |   |   |   |   |   |   |   |--- bmi <= 36.04\n",
       "|   |   |   |   |   |   |   |   |   |   |   |--- class: 13228\n",
       "|   |   |   |   |   |   |   |   |   |   |--- bmi >  36.04\n",
       "|   |   |   |   |   |   |   |   |   |   |   |--- truncated branch of depth 6\n",
       "|   |   |   |   |   |   |   |   |--- bmi >  36.30\n",
       "|   |   |   |   |   |   |   |   |   |--- bmi <= 36.34\n",
       "|   |   |   |   |   |   |   |   |   |   |--- class: 8527\n",
       "|   |   |   |   |   |   |   |   |   |--- bmi >  36.34\n",
       "|   |   |   |   |   |   |   |   |   |   |--- bmi <= 36.39\n",
       "|   |   |   |   |   |   |   |   |   |   |   |--- class: 11436\n",
       "|   |   |   |   |   |   |   |   |   |   |--- bmi >  36.39\n",
       "|   |   |   |   |   |   |   |   |   |   |   |--- truncated branch of depth 10\n",
       "|   |   |   |   |   |   |   |--- bmi >  36.85\n",
       "|   |   |   |   |   |   |   |   |--- bmi <= 36.91\n",
       "|   |   |   |   |   |   |   |   |   |--- class: 1917\n",
       "|   |   |   |   |   |   |   |   |--- bmi >  36.91\n",
       "|   |   |   |   |   |   |   |   |   |--- bmi <= 36.96\n",
       "|   |   |   |   |   |   |   |   |   |   |--- class: 8023\n",
       "|   |   |   |   |   |   |   |   |   |--- bmi >  36.96\n",
       "|   |   |   |   |   |   |   |   |   |   |--- bmi <= 36.98\n",
       "|   |   |   |   |   |   |   |   |   |   |   |--- class: 49577\n",
       "|   |   |   |   |   |   |   |   |   |   |--- bmi >  36.98\n",
       "|   |   |   |   |   |   |   |   |   |   |   |--- truncated branch of depth 23\n",
       "|--- bmi >  38.13\n",
       "|   |--- bmi <= 38.28\n",
       "|   |   |--- bmi <= 38.18\n",
       "|   |   |   |--- class: 1631\n",
       "|   |   |--- bmi >  38.18\n",
       "|   |   |   |--- bmi <= 38.23\n",
       "|   |   |   |   |--- class: 14410\n",
       "|   |   |   |--- bmi >  38.23\n",
       "|   |   |   |   |--- class: 1631\n",
       "|   |--- bmi >  38.28\n",
       "|   |   |--- bmi <= 39.86\n",
       "|   |   |   |--- bmi <= 39.15\n",
       "|   |   |   |   |--- bmi <= 38.33\n",
       "|   |   |   |   |   |--- class: 7935\n",
       "|   |   |   |   |--- bmi >  38.33\n",
       "|   |   |   |   |   |--- bmi <= 38.39\n",
       "|   |   |   |   |   |   |--- class: 11396\n",
       "|   |   |   |   |   |--- bmi >  38.39\n",
       "|   |   |   |   |   |   |--- bmi <= 38.49\n",
       "|   |   |   |   |   |   |   |--- class: 4463\n",
       "|   |   |   |   |   |   |--- bmi >  38.49\n",
       "|   |   |   |   |   |   |   |--- bmi <= 38.63\n",
       "|   |   |   |   |   |   |   |   |--- class: 4762\n",
       "|   |   |   |   |   |   |   |--- bmi >  38.63\n",
       "|   |   |   |   |   |   |   |   |--- bmi <= 38.75\n",
       "|   |   |   |   |   |   |   |   |   |--- class: 3393\n",
       "|   |   |   |   |   |   |   |   |--- bmi >  38.75\n",
       "|   |   |   |   |   |   |   |   |   |--- bmi <= 38.87\n",
       "|   |   |   |   |   |   |   |   |   |   |--- class: 5138\n",
       "|   |   |   |   |   |   |   |   |   |--- bmi >  38.87\n",
       "|   |   |   |   |   |   |   |   |   |   |--- bmi <= 38.92\n",
       "|   |   |   |   |   |   |   |   |   |   |   |--- class: 5972\n",
       "|   |   |   |   |   |   |   |   |   |   |--- bmi >  38.92\n",
       "|   |   |   |   |   |   |   |   |   |   |   |--- truncated branch of depth 5\n",
       "|   |   |   |--- bmi >  39.15\n",
       "|   |   |   |   |--- bmi <= 39.24\n",
       "|   |   |   |   |   |--- bmi <= 39.18\n",
       "|   |   |   |   |   |   |--- class: 1633\n",
       "|   |   |   |   |   |--- bmi >  39.18\n",
       "|   |   |   |   |   |   |--- class: 13470\n",
       "|   |   |   |   |--- bmi >  39.24\n",
       "|   |   |   |   |   |--- bmi <= 39.30\n",
       "|   |   |   |   |   |   |--- class: 3500\n",
       "|   |   |   |   |   |--- bmi >  39.30\n",
       "|   |   |   |   |   |   |--- bmi <= 39.37\n",
       "|   |   |   |   |   |   |   |--- class: 14901\n",
       "|   |   |   |   |   |   |--- bmi >  39.37\n",
       "|   |   |   |   |   |   |   |--- bmi <= 39.41\n",
       "|   |   |   |   |   |   |   |   |--- class: 38344\n",
       "|   |   |   |   |   |   |   |--- bmi >  39.41\n",
       "|   |   |   |   |   |   |   |   |--- bmi <= 39.46\n",
       "|   |   |   |   |   |   |   |   |   |--- class: 8342\n",
       "|   |   |   |   |   |   |   |   |--- bmi >  39.46\n",
       "|   |   |   |   |   |   |   |   |   |--- bmi <= 39.50\n",
       "|   |   |   |   |   |   |   |   |   |   |--- class: 2026\n",
       "|   |   |   |   |   |   |   |   |   |--- bmi >  39.50\n",
       "|   |   |   |   |   |   |   |   |   |   |--- bmi <= 39.51\n",
       "|   |   |   |   |   |   |   |   |   |   |   |--- class: 1682\n",
       "|   |   |   |   |   |   |   |   |   |   |--- bmi >  39.51\n",
       "|   |   |   |   |   |   |   |   |   |   |   |--- truncated branch of depth 8\n",
       "|   |   |--- bmi >  39.86\n",
       "|   |   |   |--- bmi <= 40.29\n",
       "|   |   |   |   |--- bmi <= 40.17\n",
       "|   |   |   |   |   |--- bmi <= 39.92\n",
       "|   |   |   |   |   |   |--- class: 48173\n",
       "|   |   |   |   |   |--- bmi >  39.92\n",
       "|   |   |   |   |   |   |--- bmi <= 39.96\n",
       "|   |   |   |   |   |   |   |--- class: 12982\n",
       "|   |   |   |   |   |   |--- bmi >  39.96\n",
       "|   |   |   |   |   |   |   |--- bmi <= 40.07\n",
       "|   |   |   |   |   |   |   |   |--- class: 9704\n",
       "|   |   |   |   |   |   |   |--- bmi >  40.07\n",
       "|   |   |   |   |   |   |   |   |--- class: 5400\n",
       "|   |   |   |   |--- bmi >  40.17\n",
       "|   |   |   |   |   |--- bmi <= 40.22\n",
       "|   |   |   |   |   |   |--- class: 2217\n",
       "|   |   |   |   |   |--- bmi >  40.22\n",
       "|   |   |   |   |   |   |--- bmi <= 40.27\n",
       "|   |   |   |   |   |   |   |--- class: 1634\n",
       "|   |   |   |   |   |   |--- bmi >  40.27\n",
       "|   |   |   |   |   |   |   |--- class: 2217\n",
       "|   |   |   |--- bmi >  40.29\n",
       "|   |   |   |   |--- bmi <= 40.33\n",
       "|   |   |   |   |   |--- class: 10602\n",
       "|   |   |   |   |--- bmi >  40.33\n",
       "|   |   |   |   |   |--- bmi <= 40.37\n",
       "|   |   |   |   |   |   |--- class: 10982\n",
       "|   |   |   |   |   |--- bmi >  40.37\n",
       "|   |   |   |   |   |   |--- bmi <= 40.42\n",
       "|   |   |   |   |   |   |   |--- class: 8733\n",
       "|   |   |   |   |   |   |--- bmi >  40.42\n",
       "|   |   |   |   |   |   |   |--- bmi <= 40.48\n",
       "|   |   |   |   |   |   |   |   |--- class: 1984\n",
       "|   |   |   |   |   |   |   |--- bmi >  40.48\n",
       "|   |   |   |   |   |   |   |   |--- bmi <= 40.49\n",
       "|   |   |   |   |   |   |   |   |   |--- class: 13831\n",
       "|   |   |   |   |   |   |   |   |--- bmi >  40.49\n",
       "|   |   |   |   |   |   |   |   |   |--- bmi <= 40.53\n",
       "|   |   |   |   |   |   |   |   |   |   |--- class: 1759\n",
       "|   |   |   |   |   |   |   |   |   |--- bmi >  40.53\n",
       "|   |   |   |   |   |   |   |   |   |   |--- bmi <= 40.61\n",
       "|   |   |   |   |   |   |   |   |   |   |   |--- class: 6373\n",
       "|   |   |   |   |   |   |   |   |   |   |--- bmi >  40.61\n",
       "|   |   |   |   |   |   |   |   |   |   |   |--- truncated branch of depth 54\n",
       "</pre>"
      ],
      "text/plain": [
       "<IPython.core.display.HTML object>"
      ]
     },
     "execution_count": 23,
     "metadata": {},
     "output_type": "execute_result"
    }
   ],
   "source": [
    "from IPython.core.display import HTML\n",
    "from sklearn.tree.export import export_text\n",
    "tree_rules = export_text(clf, feature_names=list(X.columns))\n",
    "HTML('<pre>' + tree_rules + '</pre>')"
   ]
  }
 ],
 "metadata": {
  "kernelspec": {
   "display_name": "Python 3",
   "language": "python",
   "name": "python3"
  },
  "language_info": {
   "codemirror_mode": {
    "name": "ipython",
    "version": 3
   },
   "file_extension": ".py",
   "mimetype": "text/x-python",
   "name": "python",
   "nbconvert_exporter": "python",
   "pygments_lexer": "ipython3",
   "version": "3.8.5"
  }
 },
 "nbformat": 4,
 "nbformat_minor": 4
}
